{
 "cells": [
  {
   "cell_type": "code",
   "execution_count": 1,
   "id": "4a19c6ce",
   "metadata": {},
   "outputs": [],
   "source": [
    "from restaurant_review_classifier import RestarantReviewClassifier"
   ]
  },
  {
   "cell_type": "code",
   "execution_count": 2,
   "id": "24346bb0",
   "metadata": {},
   "outputs": [],
   "source": [
    "x_data = ['가면 갈수록 기분나빠지는 곳. 절대로, 두번 다시 안간다.',\n",
    "            '고기 맛은 최고!! 다만 정신놓고 먹다보면 지갑이 텅텅!',\n",
    "            '맛집이라고 해서 가봤는데  별로네요',\n",
    "            '가격에 비해 낙곱새에 낙지가 너무 적어요.']"
   ]
  },
  {
   "cell_type": "code",
   "execution_count": 3,
   "id": "613289b4",
   "metadata": {},
   "outputs": [
    {
     "name": "stdout",
     "output_type": "stream",
     "text": [
      "1/1 [==============================] - 1s 848ms/step\n"
     ]
    },
    {
     "data": {
      "text/plain": [
       "array([[0.],\n",
       "       [1.],\n",
       "       [0.],\n",
       "       [0.]], dtype=float32)"
      ]
     },
     "execution_count": 3,
     "metadata": {},
     "output_type": "execute_result"
    }
   ],
   "source": [
    "clf = RestarantReviewClassifier()\n",
    "clf.predict(x_data)"
   ]
  }
 ],
 "metadata": {
  "kernelspec": {
   "display_name": "Python 3 (ipykernel)",
   "language": "python",
   "name": "python3"
  },
  "language_info": {
   "codemirror_mode": {
    "name": "ipython",
    "version": 3
   },
   "file_extension": ".py",
   "mimetype": "text/x-python",
   "name": "python",
   "nbconvert_exporter": "python",
   "pygments_lexer": "ipython3",
   "version": "3.8.0"
  }
 },
 "nbformat": 4,
 "nbformat_minor": 5
}
